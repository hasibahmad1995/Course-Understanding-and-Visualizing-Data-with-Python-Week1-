{
 "cells": [
  {
   "cell_type": "code",
   "execution_count": 1,
   "metadata": {},
   "outputs": [],
   "source": [
    "import pandas as pd"
   ]
  },
  {
   "cell_type": "markdown",
   "metadata": {},
   "source": [
    "Pandas is a large and powerful library.  Here we will only use a few of its basic features.  The main data structure that Pandas works with is called a \"data frame\".  This is a two-dimensional table of data in which the rows typically represent cases (e.g. NHANES subjects), and the columns represent variables.  Pandas also has a one-dimensional data structure called a `Series` that we will encounter occasionally.\n",
    "\n",
    "Pandas has a variety of functions named with the pattern '`read_xxx`' for reading data in different formats into Python.  Right now we will focus on reading '`csv`' files, so we are using the '`read_csv`' function, which can read csv (and \"tsv\") format files that are exported from spreadsheet software like Excel.  The '`read_csv`' function by default expects the first row of the data file to contain column names.  \n",
    "\n",
    "Using '`read_csv`' in its default mode is fairly straightforward.  There are many options to '`read_csv`' that are useful for handling less-common situations.  For example, you would use the option `sep='\\t'` instead of the default `sep=','` if the fields of your data file are delimited by tabs instead of commas.  See [here](https://pandas.pydata.org/pandas-docs/stable/generated/pandas.read_csv.html) for the full documentation for '`read_csv`'.\n",
    "\n",
    "Pandas can read a data file over the internet when provided with a URL, which is what we will do below.  In the Python script we will name the data set '`da`', i.e. this is the name of the Python variable that will hold the data frame after we have loaded it. \n",
    "\n",
    "The variable '`url`' holds a string (text) value, which is the internet URL where the data are located.  If you have the data file in your local filesystem, you can also use '`read_csv`' to read the data from this file.  In this case you would pass a file path instead of a URL, e.g. `pd.read_csv(\"my_file.csv\")` would read a file named `my_file.csv` that is located in your current working directory."
   ]
  },
  {
   "cell_type": "code",
   "execution_count": 18,
   "metadata": {},
   "outputs": [
    {
     "data": {
      "text/html": [
       "<div>\n",
       "<style scoped>\n",
       "    .dataframe tbody tr th:only-of-type {\n",
       "        vertical-align: middle;\n",
       "    }\n",
       "\n",
       "    .dataframe tbody tr th {\n",
       "        vertical-align: top;\n",
       "    }\n",
       "\n",
       "    .dataframe thead th {\n",
       "        text-align: right;\n",
       "    }\n",
       "</style>\n",
       "<table border=\"1\" class=\"dataframe\">\n",
       "  <thead>\n",
       "    <tr style=\"text-align: right;\">\n",
       "      <th></th>\n",
       "      <th>SEQN</th>\n",
       "      <th>ALQ101</th>\n",
       "      <th>ALQ110</th>\n",
       "      <th>ALQ130</th>\n",
       "      <th>SMQ020</th>\n",
       "      <th>RIAGENDR</th>\n",
       "      <th>RIDAGEYR</th>\n",
       "      <th>RIDRETH1</th>\n",
       "      <th>DMDCITZN</th>\n",
       "      <th>DMDEDUC2</th>\n",
       "      <th>...</th>\n",
       "      <th>BPXSY2</th>\n",
       "      <th>BPXDI2</th>\n",
       "      <th>BMXWT</th>\n",
       "      <th>BMXHT</th>\n",
       "      <th>BMXBMI</th>\n",
       "      <th>BMXLEG</th>\n",
       "      <th>BMXARML</th>\n",
       "      <th>BMXARMC</th>\n",
       "      <th>BMXWAIST</th>\n",
       "      <th>HIQ210</th>\n",
       "    </tr>\n",
       "  </thead>\n",
       "  <tbody>\n",
       "    <tr>\n",
       "      <th>0</th>\n",
       "      <td>83732</td>\n",
       "      <td>1.0</td>\n",
       "      <td>NaN</td>\n",
       "      <td>1.0</td>\n",
       "      <td>1</td>\n",
       "      <td>1</td>\n",
       "      <td>62</td>\n",
       "      <td>3</td>\n",
       "      <td>1.0</td>\n",
       "      <td>5.0</td>\n",
       "      <td>...</td>\n",
       "      <td>124.0</td>\n",
       "      <td>64.0</td>\n",
       "      <td>94.8</td>\n",
       "      <td>184.5</td>\n",
       "      <td>27.8</td>\n",
       "      <td>43.3</td>\n",
       "      <td>43.6</td>\n",
       "      <td>35.9</td>\n",
       "      <td>101.1</td>\n",
       "      <td>2.0</td>\n",
       "    </tr>\n",
       "    <tr>\n",
       "      <th>1</th>\n",
       "      <td>83733</td>\n",
       "      <td>1.0</td>\n",
       "      <td>NaN</td>\n",
       "      <td>6.0</td>\n",
       "      <td>1</td>\n",
       "      <td>1</td>\n",
       "      <td>53</td>\n",
       "      <td>3</td>\n",
       "      <td>2.0</td>\n",
       "      <td>3.0</td>\n",
       "      <td>...</td>\n",
       "      <td>140.0</td>\n",
       "      <td>88.0</td>\n",
       "      <td>90.4</td>\n",
       "      <td>171.4</td>\n",
       "      <td>30.8</td>\n",
       "      <td>38.0</td>\n",
       "      <td>40.0</td>\n",
       "      <td>33.2</td>\n",
       "      <td>107.9</td>\n",
       "      <td>NaN</td>\n",
       "    </tr>\n",
       "    <tr>\n",
       "      <th>2</th>\n",
       "      <td>83734</td>\n",
       "      <td>1.0</td>\n",
       "      <td>NaN</td>\n",
       "      <td>NaN</td>\n",
       "      <td>1</td>\n",
       "      <td>1</td>\n",
       "      <td>78</td>\n",
       "      <td>3</td>\n",
       "      <td>1.0</td>\n",
       "      <td>3.0</td>\n",
       "      <td>...</td>\n",
       "      <td>132.0</td>\n",
       "      <td>44.0</td>\n",
       "      <td>83.4</td>\n",
       "      <td>170.1</td>\n",
       "      <td>28.8</td>\n",
       "      <td>35.6</td>\n",
       "      <td>37.0</td>\n",
       "      <td>31.0</td>\n",
       "      <td>116.5</td>\n",
       "      <td>2.0</td>\n",
       "    </tr>\n",
       "    <tr>\n",
       "      <th>3</th>\n",
       "      <td>83735</td>\n",
       "      <td>2.0</td>\n",
       "      <td>1.0</td>\n",
       "      <td>1.0</td>\n",
       "      <td>2</td>\n",
       "      <td>2</td>\n",
       "      <td>56</td>\n",
       "      <td>3</td>\n",
       "      <td>1.0</td>\n",
       "      <td>5.0</td>\n",
       "      <td>...</td>\n",
       "      <td>134.0</td>\n",
       "      <td>68.0</td>\n",
       "      <td>109.8</td>\n",
       "      <td>160.9</td>\n",
       "      <td>42.4</td>\n",
       "      <td>38.5</td>\n",
       "      <td>37.7</td>\n",
       "      <td>38.3</td>\n",
       "      <td>110.1</td>\n",
       "      <td>2.0</td>\n",
       "    </tr>\n",
       "    <tr>\n",
       "      <th>4</th>\n",
       "      <td>83736</td>\n",
       "      <td>2.0</td>\n",
       "      <td>1.0</td>\n",
       "      <td>1.0</td>\n",
       "      <td>2</td>\n",
       "      <td>2</td>\n",
       "      <td>42</td>\n",
       "      <td>4</td>\n",
       "      <td>1.0</td>\n",
       "      <td>4.0</td>\n",
       "      <td>...</td>\n",
       "      <td>114.0</td>\n",
       "      <td>54.0</td>\n",
       "      <td>55.2</td>\n",
       "      <td>164.9</td>\n",
       "      <td>20.3</td>\n",
       "      <td>37.4</td>\n",
       "      <td>36.0</td>\n",
       "      <td>27.2</td>\n",
       "      <td>80.4</td>\n",
       "      <td>2.0</td>\n",
       "    </tr>\n",
       "    <tr>\n",
       "      <th>...</th>\n",
       "      <td>...</td>\n",
       "      <td>...</td>\n",
       "      <td>...</td>\n",
       "      <td>...</td>\n",
       "      <td>...</td>\n",
       "      <td>...</td>\n",
       "      <td>...</td>\n",
       "      <td>...</td>\n",
       "      <td>...</td>\n",
       "      <td>...</td>\n",
       "      <td>...</td>\n",
       "      <td>...</td>\n",
       "      <td>...</td>\n",
       "      <td>...</td>\n",
       "      <td>...</td>\n",
       "      <td>...</td>\n",
       "      <td>...</td>\n",
       "      <td>...</td>\n",
       "      <td>...</td>\n",
       "      <td>...</td>\n",
       "      <td>...</td>\n",
       "    </tr>\n",
       "    <tr>\n",
       "      <th>5730</th>\n",
       "      <td>93695</td>\n",
       "      <td>2.0</td>\n",
       "      <td>2.0</td>\n",
       "      <td>NaN</td>\n",
       "      <td>1</td>\n",
       "      <td>2</td>\n",
       "      <td>76</td>\n",
       "      <td>3</td>\n",
       "      <td>1.0</td>\n",
       "      <td>3.0</td>\n",
       "      <td>...</td>\n",
       "      <td>112.0</td>\n",
       "      <td>46.0</td>\n",
       "      <td>59.1</td>\n",
       "      <td>165.8</td>\n",
       "      <td>21.5</td>\n",
       "      <td>38.2</td>\n",
       "      <td>37.0</td>\n",
       "      <td>29.5</td>\n",
       "      <td>95.0</td>\n",
       "      <td>2.0</td>\n",
       "    </tr>\n",
       "    <tr>\n",
       "      <th>5731</th>\n",
       "      <td>93696</td>\n",
       "      <td>2.0</td>\n",
       "      <td>2.0</td>\n",
       "      <td>NaN</td>\n",
       "      <td>2</td>\n",
       "      <td>1</td>\n",
       "      <td>26</td>\n",
       "      <td>3</td>\n",
       "      <td>1.0</td>\n",
       "      <td>5.0</td>\n",
       "      <td>...</td>\n",
       "      <td>116.0</td>\n",
       "      <td>76.0</td>\n",
       "      <td>112.1</td>\n",
       "      <td>182.2</td>\n",
       "      <td>33.8</td>\n",
       "      <td>43.4</td>\n",
       "      <td>41.8</td>\n",
       "      <td>42.3</td>\n",
       "      <td>110.2</td>\n",
       "      <td>2.0</td>\n",
       "    </tr>\n",
       "    <tr>\n",
       "      <th>5732</th>\n",
       "      <td>93697</td>\n",
       "      <td>1.0</td>\n",
       "      <td>NaN</td>\n",
       "      <td>1.0</td>\n",
       "      <td>1</td>\n",
       "      <td>2</td>\n",
       "      <td>80</td>\n",
       "      <td>3</td>\n",
       "      <td>1.0</td>\n",
       "      <td>4.0</td>\n",
       "      <td>...</td>\n",
       "      <td>146.0</td>\n",
       "      <td>58.0</td>\n",
       "      <td>71.7</td>\n",
       "      <td>152.2</td>\n",
       "      <td>31.0</td>\n",
       "      <td>31.3</td>\n",
       "      <td>37.5</td>\n",
       "      <td>28.8</td>\n",
       "      <td>NaN</td>\n",
       "      <td>2.0</td>\n",
       "    </tr>\n",
       "    <tr>\n",
       "      <th>5733</th>\n",
       "      <td>93700</td>\n",
       "      <td>NaN</td>\n",
       "      <td>NaN</td>\n",
       "      <td>NaN</td>\n",
       "      <td>1</td>\n",
       "      <td>1</td>\n",
       "      <td>35</td>\n",
       "      <td>3</td>\n",
       "      <td>2.0</td>\n",
       "      <td>1.0</td>\n",
       "      <td>...</td>\n",
       "      <td>106.0</td>\n",
       "      <td>66.0</td>\n",
       "      <td>78.2</td>\n",
       "      <td>173.3</td>\n",
       "      <td>26.0</td>\n",
       "      <td>40.3</td>\n",
       "      <td>37.5</td>\n",
       "      <td>30.6</td>\n",
       "      <td>98.9</td>\n",
       "      <td>2.0</td>\n",
       "    </tr>\n",
       "    <tr>\n",
       "      <th>5734</th>\n",
       "      <td>93702</td>\n",
       "      <td>1.0</td>\n",
       "      <td>NaN</td>\n",
       "      <td>2.0</td>\n",
       "      <td>2</td>\n",
       "      <td>2</td>\n",
       "      <td>24</td>\n",
       "      <td>3</td>\n",
       "      <td>1.0</td>\n",
       "      <td>5.0</td>\n",
       "      <td>...</td>\n",
       "      <td>114.0</td>\n",
       "      <td>68.0</td>\n",
       "      <td>58.3</td>\n",
       "      <td>165.0</td>\n",
       "      <td>21.4</td>\n",
       "      <td>38.2</td>\n",
       "      <td>33.5</td>\n",
       "      <td>26.2</td>\n",
       "      <td>72.5</td>\n",
       "      <td>2.0</td>\n",
       "    </tr>\n",
       "  </tbody>\n",
       "</table>\n",
       "<p>5735 rows × 28 columns</p>\n",
       "</div>"
      ],
      "text/plain": [
       "       SEQN  ALQ101  ALQ110  ALQ130  SMQ020  RIAGENDR  RIDAGEYR  RIDRETH1  \\\n",
       "0     83732     1.0     NaN     1.0       1         1        62         3   \n",
       "1     83733     1.0     NaN     6.0       1         1        53         3   \n",
       "2     83734     1.0     NaN     NaN       1         1        78         3   \n",
       "3     83735     2.0     1.0     1.0       2         2        56         3   \n",
       "4     83736     2.0     1.0     1.0       2         2        42         4   \n",
       "...     ...     ...     ...     ...     ...       ...       ...       ...   \n",
       "5730  93695     2.0     2.0     NaN       1         2        76         3   \n",
       "5731  93696     2.0     2.0     NaN       2         1        26         3   \n",
       "5732  93697     1.0     NaN     1.0       1         2        80         3   \n",
       "5733  93700     NaN     NaN     NaN       1         1        35         3   \n",
       "5734  93702     1.0     NaN     2.0       2         2        24         3   \n",
       "\n",
       "      DMDCITZN  DMDEDUC2  ...  BPXSY2  BPXDI2  BMXWT  BMXHT  BMXBMI  BMXLEG  \\\n",
       "0          1.0       5.0  ...   124.0    64.0   94.8  184.5    27.8    43.3   \n",
       "1          2.0       3.0  ...   140.0    88.0   90.4  171.4    30.8    38.0   \n",
       "2          1.0       3.0  ...   132.0    44.0   83.4  170.1    28.8    35.6   \n",
       "3          1.0       5.0  ...   134.0    68.0  109.8  160.9    42.4    38.5   \n",
       "4          1.0       4.0  ...   114.0    54.0   55.2  164.9    20.3    37.4   \n",
       "...        ...       ...  ...     ...     ...    ...    ...     ...     ...   \n",
       "5730       1.0       3.0  ...   112.0    46.0   59.1  165.8    21.5    38.2   \n",
       "5731       1.0       5.0  ...   116.0    76.0  112.1  182.2    33.8    43.4   \n",
       "5732       1.0       4.0  ...   146.0    58.0   71.7  152.2    31.0    31.3   \n",
       "5733       2.0       1.0  ...   106.0    66.0   78.2  173.3    26.0    40.3   \n",
       "5734       1.0       5.0  ...   114.0    68.0   58.3  165.0    21.4    38.2   \n",
       "\n",
       "      BMXARML  BMXARMC  BMXWAIST  HIQ210  \n",
       "0        43.6     35.9     101.1     2.0  \n",
       "1        40.0     33.2     107.9     NaN  \n",
       "2        37.0     31.0     116.5     2.0  \n",
       "3        37.7     38.3     110.1     2.0  \n",
       "4        36.0     27.2      80.4     2.0  \n",
       "...       ...      ...       ...     ...  \n",
       "5730     37.0     29.5      95.0     2.0  \n",
       "5731     41.8     42.3     110.2     2.0  \n",
       "5732     37.5     28.8       NaN     2.0  \n",
       "5733     37.5     30.6      98.9     2.0  \n",
       "5734     33.5     26.2      72.5     2.0  \n",
       "\n",
       "[5735 rows x 28 columns]"
      ]
     },
     "execution_count": 18,
     "metadata": {},
     "output_type": "execute_result"
    }
   ],
   "source": [
    "url = \"C:/Users/Administrator/Downloads/nhanes_2015_2016.csv\"\n",
    "da = pd.read_csv(url)\n",
    "da"
   ]
  },
  {
   "cell_type": "markdown",
   "metadata": {},
   "source": [
    "To confirm that we have actually obtained the data the we are expecting, we can display the shape (number of rows and columns) of the data frame in the notebook.  Note that the final expression in any Jupyter notebook cell is automatically printed, but you can force other expressions to be printed by using the '`print`' function, e.g. '`print(da.shape)`'.\n",
    "\n",
    "Based on what we see below, the data set being read here has 5735 rows, corresponding to 5735 people in this wave of the NHANES study, and 28 columns, corresponding to 28 variables in this particular data file.  Note that NHANES collects thousands of variables on each study subject, but here we are working with a reduced file that contains a limited number of variables."
   ]
  },
  {
   "cell_type": "code",
   "execution_count": 9,
   "metadata": {},
   "outputs": [
    {
     "data": {
      "text/plain": [
       "(5735, 28)"
      ]
     },
     "execution_count": 9,
     "metadata": {},
     "output_type": "execute_result"
    }
   ],
   "source": [
    "da.shape"
   ]
  },
  {
   "cell_type": "markdown",
   "metadata": {},
   "source": [
    "### Exploring the contents of a data set\n",
    "\n",
    "Pandas has a number of basic ways to understand what is in a data set.  For example, above we used the '`shape`' method to determine the numbers of rows and columns in a data set.  The columns in a Pandas data frame have names, to see the names, use the '`columns`' method:"
   ]
  },
  {
   "cell_type": "code",
   "execution_count": 10,
   "metadata": {},
   "outputs": [
    {
     "data": {
      "text/plain": [
       "Index(['SEQN', 'ALQ101', 'ALQ110', 'ALQ130', 'SMQ020', 'RIAGENDR', 'RIDAGEYR',\n",
       "       'RIDRETH1', 'DMDCITZN', 'DMDEDUC2', 'DMDMARTL', 'DMDHHSIZ', 'WTINT2YR',\n",
       "       'SDMVPSU', 'SDMVSTRA', 'INDFMPIR', 'BPXSY1', 'BPXDI1', 'BPXSY2',\n",
       "       'BPXDI2', 'BMXWT', 'BMXHT', 'BMXBMI', 'BMXLEG', 'BMXARML', 'BMXARMC',\n",
       "       'BMXWAIST', 'HIQ210'],\n",
       "      dtype='object')"
      ]
     },
     "execution_count": 10,
     "metadata": {},
     "output_type": "execute_result"
    }
   ],
   "source": [
    "da.columns"
   ]
  },
  {
   "cell_type": "markdown",
   "metadata": {},
   "source": [
    "Every variable in a Pandas data frame has a data type.  There are many different data types, but most commonly you will encounter floating point values (real numbers), integers, strings (text), and date/time values.  When Pandas reads a text/csv file, it guesses the data types based on what it sees in the first few rows of the data file.  Usually it selects an appropriate type, but occasionally it does not.  To confirm that the data types are consistent with what the variables represent, inspect the '`dtypes`' attribute of the data frame."
   ]
  },
  {
   "cell_type": "code",
   "execution_count": 11,
   "metadata": {},
   "outputs": [
    {
     "data": {
      "text/plain": [
       "SEQN          int64\n",
       "ALQ101      float64\n",
       "ALQ110      float64\n",
       "ALQ130      float64\n",
       "SMQ020        int64\n",
       "RIAGENDR      int64\n",
       "RIDAGEYR      int64\n",
       "RIDRETH1      int64\n",
       "DMDCITZN    float64\n",
       "DMDEDUC2    float64\n",
       "DMDMARTL    float64\n",
       "DMDHHSIZ      int64\n",
       "WTINT2YR    float64\n",
       "SDMVPSU       int64\n",
       "SDMVSTRA      int64\n",
       "INDFMPIR    float64\n",
       "BPXSY1      float64\n",
       "BPXDI1      float64\n",
       "BPXSY2      float64\n",
       "BPXDI2      float64\n",
       "BMXWT       float64\n",
       "BMXHT       float64\n",
       "BMXBMI      float64\n",
       "BMXLEG      float64\n",
       "BMXARML     float64\n",
       "BMXARMC     float64\n",
       "BMXWAIST    float64\n",
       "HIQ210      float64\n",
       "dtype: object"
      ]
     },
     "execution_count": 11,
     "metadata": {},
     "output_type": "execute_result"
    }
   ],
   "source": [
    "da.dtypes"
   ]
  },
  {
   "cell_type": "markdown",
   "metadata": {},
   "source": [
    "As we see here, most of the variables have floating point or integer data type.  Unlike many data sets, NHANES does not use any text values in its data.  For example, while many datasets would use text labels like \"F\" or \"M\" to denote a subject's gender, this information is represented in NHANES with integer codes.  The actual meanings of these codes can be determined from the codebooks.  For example, the variable `RIAGENDR` contains each subject's gender, with male gender coded as `1` and female gender coded as `2`.  The `RIAGENDR` variable is part of the demographics component of NHANES, so this coding can be found in the demographics codebook.\n",
    "\n",
    "Variables like `BMXWT` which represent a quantitative measurement will typically be stored as floating point data values."
   ]
  },
  {
   "cell_type": "markdown",
   "metadata": {},
   "source": [
    "### Slicing a data set\n",
    "\n",
    "As discussed above, a Pandas data frame is a rectangular data table, in which the rows represent cases and the columns represent variables.  One common manipulation of a data frame is to extract the data for one case or for one variable.  There are several ways to do this, as shown below.\n",
    "\n",
    "To extract all the values for one variable, the following three approaches are equivalent (\"DMDEDUC2\" here is an NHANES variable containing a person's educational attainment).  In these four lines of code, we are assigning the data from one column of the data frame `da` into new variables `w`, `x`, `y`, and `z`.  The first three approaches access the variable by name.  The fourth approach accesses the variable by position (note that `DMDEDUC2` is in position 9 of the `da.columns` array shown above -- remember that Python counts starting at position zero)."
   ]
  },
  {
   "cell_type": "code",
   "execution_count": 12,
   "metadata": {},
   "outputs": [],
   "source": [
    "w = da[\"DMDEDUC2\"]\n",
    "x = da.loc[:, \"DMDEDUC2\"]\n",
    "y = da.DMDEDUC2\n",
    "z = da.iloc[:, 9]  # DMDEDUC2 is in column 9\n"
   ]
  },
  {
   "cell_type": "markdown",
   "metadata": {},
   "source": [
    "Another reason to slice a variable out of a data frame is so that we can then pass it into a function.  For example, we can find the maximum value over all `DMDEDUC2` values using any one of the following four lines of code:"
   ]
  },
  {
   "cell_type": "code",
   "execution_count": 14,
   "metadata": {},
   "outputs": [
    {
     "name": "stdout",
     "output_type": "stream",
     "text": [
      "9.0\n",
      "9.0\n",
      "9.0\n",
      "9.0\n"
     ]
    }
   ],
   "source": [
    "print(da[\"DMDEDUC2\"].max())\n",
    "print(da.loc[:, \"DMDEDUC2\"].max())\n",
    "print(da.DMDEDUC2.max())\n",
    "print(da.iloc[:, 9].max())"
   ]
  },
  {
   "cell_type": "markdown",
   "metadata": {},
   "source": [
    "Every value in a Python program has a type, and the type information can be obtained using Python's '`type`' function.  This can be useful, for example, if you are looking for the documentation associated with some value, but you do not know what the value's type is.  \n",
    "\n",
    "Here we see that the variable `da` has type 'DataFrame', while one column of `da` has type 'Series'.  As noted above, a Series is a Pandas data structure for holding a single column (or row) of data."
   ]
  },
  {
   "cell_type": "code",
   "execution_count": 15,
   "metadata": {},
   "outputs": [
    {
     "name": "stdout",
     "output_type": "stream",
     "text": [
      "<class 'pandas.core.frame.DataFrame'>\n",
      "<class 'pandas.core.series.Series'>\n",
      "<class 'pandas.core.series.Series'>\n"
     ]
    }
   ],
   "source": [
    "print(type(da)) # The type of the variable\n",
    "print(type(da.DMDEDUC2)) # The type of one column of the data frame\n",
    "print(type(da.iloc[2,:])) # The type of one row of the data frame"
   ]
  },
  {
   "cell_type": "markdown",
   "metadata": {},
   "source": [
    "It may also be useful to slice a row (case) out of a data frame.  Just as a data frame's columns have names, the rows also have names, which are called the \"index\".  However many data sets do not have meaningful row names, so it is more common to extract a row of a data frame using its position.  The `iloc` method slices rows or columns from a data frame by position (counting from 0). The following line of code extracts row 3 from the data set (which is the fourth row, counting from zero)."
   ]
  },
  {
   "cell_type": "code",
   "execution_count": 16,
   "metadata": {},
   "outputs": [
    {
     "data": {
      "text/plain": [
       "SEQN         83735.0\n",
       "ALQ101           2.0\n",
       "ALQ110           1.0\n",
       "ALQ130           1.0\n",
       "SMQ020           2.0\n",
       "RIAGENDR         2.0\n",
       "RIDAGEYR        56.0\n",
       "RIDRETH1         3.0\n",
       "DMDCITZN         1.0\n",
       "DMDEDUC2         5.0\n",
       "DMDMARTL         6.0\n",
       "DMDHHSIZ         1.0\n",
       "WTINT2YR    102718.0\n",
       "SDMVPSU          1.0\n",
       "SDMVSTRA       131.0\n",
       "INDFMPIR         5.0\n",
       "BPXSY1         132.0\n",
       "BPXDI1          72.0\n",
       "BPXSY2         134.0\n",
       "BPXDI2          68.0\n",
       "BMXWT          109.8\n",
       "BMXHT          160.9\n",
       "BMXBMI          42.4\n",
       "BMXLEG          38.5\n",
       "BMXARML         37.7\n",
       "BMXARMC         38.3\n",
       "BMXWAIST       110.1\n",
       "HIQ210           2.0\n",
       "Name: 3, dtype: float64"
      ]
     },
     "execution_count": 16,
     "metadata": {},
     "output_type": "execute_result"
    }
   ],
   "source": [
    "x = da.iloc[3, :]\n",
    "x"
   ]
  },
  {
   "cell_type": "markdown",
   "metadata": {},
   "source": [
    "Another important data frame manipulation is to extract a contiguous block of rows or columns from the data set.  Below we slice by position, in the first case taking row positions 3 and 4 (counting from 0, which are rows 4 and 5 counting from 1), and in the second case taking columns 2, 3, and 4 (columns 3, 4, 5 if counting from 1)."
   ]
  },
  {
   "cell_type": "markdown",
   "metadata": {},
   "source": [
    "### Missing values\n",
    "When reading a dataset using Pandas, there is a set of values including 'NA', 'NULL', and 'NaN' that are taken by default to represent a missing value.  The full list of default missing value codes is in the '`read_csv`' documentation [here](https://pandas.pydata.org/pandas-docs/stable/generated/pandas.read_csv.html).  This document also explains how to change the way that '`read_csv`' decides whether a variable's value is missing.\n",
    "\n",
    "Pandas has functions called `isnull` and `notnull` that can be used to identify where the missing and non-missing values are located in a data frame.  Below we use these functions to count the number of missing and non-missing `DMDEDUC2` values."
   ]
  },
  {
   "cell_type": "code",
   "execution_count": 17,
   "metadata": {},
   "outputs": [
    {
     "name": "stdout",
     "output_type": "stream",
     "text": [
      "261\n",
      "5474\n"
     ]
    }
   ],
   "source": [
    "print(pd.isnull(da.DMDEDUC2).sum())\n",
    "print(pd.notnull(da.DMDEDUC2).sum())"
   ]
  },
  {
   "cell_type": "markdown",
   "metadata": {},
   "source": [
    "As an aside, note that there may be a variety of distinct forms of missingness in a variable, and in some cases it is important to keep these values distinct.  For example, in case of the DMDEDUC2 variable, in addition to the blank or NA values that Pandas considers to be missing, three people responded \"don't know\" (code value 9).  In many analyses, the \"don't know\" values will also be treated as missing, but at this point we are considering \"don't know\" to be a distinct category of observed response."
   ]
  }
 ],
 "metadata": {
  "kernelspec": {
   "display_name": "Python 3",
   "language": "python",
   "name": "python3"
  },
  "language_info": {
   "codemirror_mode": {
    "name": "ipython",
    "version": 3
   },
   "file_extension": ".py",
   "mimetype": "text/x-python",
   "name": "python",
   "nbconvert_exporter": "python",
   "pygments_lexer": "ipython3",
   "version": "3.7.6"
  }
 },
 "nbformat": 4,
 "nbformat_minor": 4
}
